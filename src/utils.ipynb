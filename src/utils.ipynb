{
 "cells": [
  {
   "cell_type": "code",
   "execution_count": 33,
   "metadata": {},
   "outputs": [],
   "source": [
    "from scipy.sparse import *\n",
    "from time import time\n",
    "from sklearn.feature_extraction.text import TfidfVectorizer\n",
    "import numpy as np\n",
    "from sklearn import datasets\n",
    "from importlib import reload as rl\n",
    "import aux\n",
    "import json  # salvar benchmarks\n",
    "import timeit\n",
    "import scipy\n"
   ]
  },
  {
   "cell_type": "code",
   "execution_count": 3,
   "metadata": {},
   "outputs": [],
   "source": [
    "categories = [\n",
    "    'alt.atheism',\n",
    "    'talk.religion.misc',\n",
    "    'comp.graphics',\n",
    "    'sci.space',\n",
    "]\n",
    "\n",
    "news_bunch = datasets.fetch_20newsgroups(subset='all',\n",
    "                              remove=('headers', 'footers', 'quotes'))\n",
    " \n",
    "X_news_all = TfidfVectorizer().fit_transform(news_bunch.data)\n",
    "\n",
    "Y_news_all = news_bunch.target\n"
   ]
  },
  {
   "cell_type": "markdown",
   "metadata": {},
   "source": [
    "#### Inicializa corpus e também a versão Tfidf dele"
   ]
  },
  {
   "cell_type": "code",
   "execution_count": 40,
   "metadata": {},
   "outputs": [],
   "source": [
    "def shrink_cp():\n",
    "    global cp\n",
    "    cp = [ \n",
    "        'o sapo nao lava op peh nao lava porque nao quer', \n",
    "        'ele mora la na lagoa não lava o pé porque não quer', \n",
    "        'mas que chulé!', \n",
    "        'Ele mora lá na lagoa não lava o pé porque não quer' \n",
    "    ]\n",
    "    _complementary_cp()\n",
    "def expand_cp():\n",
    "    global cp\n",
    "    cp = news_bunch.data\n",
    "    _complementary_cp()\n",
    "\n",
    "def _complementary_cp():\n",
    "    global mcp, mcopy, mc0, mc0ar\n",
    "    mcp = TfidfVectorizer().fit_transform(cp)\n",
    "    mcopy = mcp.copy()\n",
    "    mc0 = mcp[0]\n",
    "    mc0ar = mc0.toarray()"
   ]
  },
  {
   "cell_type": "code",
   "execution_count": 46,
   "metadata": {},
   "outputs": [
    {
     "ename": "SyntaxError",
     "evalue": "invalid syntax (<timeit-src>, line 1)",
     "output_type": "error",
     "traceback": [
      "Traceback \u001b[0;36m(most recent call last)\u001b[0m:\n",
      "  File \u001b[1;32m\"/home/leomaffei/.pyenv/versions/3.7.2/lib/python3.7/site-packages/IPython/core/interactiveshell.py\"\u001b[0m, line \u001b[1;32m3296\u001b[0m, in \u001b[1;35mrun_code\u001b[0m\n    exec(code_obj, self.user_global_ns, self.user_ns)\n",
      "  File \u001b[1;32m\"<ipython-input-46-28fb2ce49132>\"\u001b[0m, line \u001b[1;32m19\u001b[0m, in \u001b[1;35m<module>\u001b[0m\n    loop_time_function(1, print, 3)\n",
      "  File \u001b[1;32m\"<ipython-input-46-28fb2ce49132>\"\u001b[0m, line \u001b[1;32m16\u001b[0m, in \u001b[1;35mloop_time_function\u001b[0m\n    number=1, repeat=n, setup=f'func = {func}', globals=globals())\n",
      "  File \u001b[1;32m\"/home/leomaffei/.pyenv/versions/3.7.2/lib/python3.7/timeit.py\"\u001b[0m, line \u001b[1;32m237\u001b[0m, in \u001b[1;35mrepeat\u001b[0m\n    return Timer(stmt, setup, timer, globals).repeat(repeat, number)\n",
      "\u001b[0;36m  File \u001b[0;32m\"/home/leomaffei/.pyenv/versions/3.7.2/lib/python3.7/timeit.py\"\u001b[0;36m, line \u001b[0;32m109\u001b[0;36m, in \u001b[0;35m__init__\u001b[0;36m\u001b[0m\n\u001b[0;31m    compile(setup, dummy_src_name, \"exec\")\u001b[0m\n",
      "\u001b[0;36m  File \u001b[0;32m\"<timeit-src>\"\u001b[0;36m, line \u001b[0;32m1\u001b[0m\n\u001b[0;31m    func = <built-in function print>\u001b[0m\n\u001b[0m           ^\u001b[0m\n\u001b[0;31mSyntaxError\u001b[0m\u001b[0;31m:\u001b[0m invalid syntax\n"
     ]
    }
   ],
   "source": [
    "def time_function(func, *args, **kargs):\n",
    "    def wrap():\n",
    "        if kargs:\n",
    "            return func(*args, kargs)\n",
    "        else:\n",
    "            return func(*args)\n",
    "        \n",
    "    return timeit.timeit(wrap)\n",
    "\n",
    "def loop_time_function(n, func, *args, **kargs):\n",
    "    \"\"\"\" Executa n vezes a função func, passando args e kargs como argumento.\n",
    "    Seu retorno é a soma dos tempos de execução de cada chamada à função.\n",
    "    \"\"\"\n",
    "    return sum( \n",
    "        timeit.repeat(stmt=f'func(*args, **kargs)', \n",
    "                      number=1, repeat=n, setup=f'func = {func}', globals=globals())\n",
    "#         (time_function(func, *args, **kargs) for _ in range(n) ) \n",
    "    )\n",
    "loop_time_function(1, print, 3)"
   ]
  },
  {
   "cell_type": "code",
   "execution_count": 6,
   "metadata": {},
   "outputs": [],
   "source": [
    "expand_cp()"
   ]
  },
  {
   "cell_type": "markdown",
   "metadata": {},
   "source": [
    "## Código para subtração manual, elemento a elemento\n",
    "    + executou de forma consistentemente mais lenta que as versões vetorizadas"
   ]
  },
  {
   "cell_type": "code",
   "execution_count": 7,
   "metadata": {},
   "outputs": [],
   "source": [
    "def manual_sub(cpy=mcopy, dest=mcp, idx = 0):\n",
    "    global mc0\n",
    "    mcp[0] - mc0\n",
    "    mcp[1] - mc0\n",
    "    mcp[2] - mc0\n",
    "    mcp[3] - mc0"
   ]
  },
  {
   "cell_type": "markdown",
   "metadata": {},
   "source": [
    "## Subtração ao se converter tudo para np.array foi a mais veloz\n",
    "    \n",
    "    Contudo, inviável para conjuntos maiores de dados (alta complexidade de espaço) conforme demonstrado ao se tentar utilizar essa estratégia com o dataset de notícias\n",
    "    20newsgroup.\n",
    "```python\n",
    "# PROBLEMA: COMPLEXIDADE DE ESPAÇO\n",
    "def numpy_array_sub(cpy=mcopy, dest=mcp, idx = 0):\n",
    "    cpy.toarray() - cpy[idx].toarray()\n",
    "```"
   ]
  },
  {
   "cell_type": "code",
   "execution_count": 8,
   "metadata": {},
   "outputs": [],
   "source": [
    "# PROBLEMA: COMPLEXIDADE DE ESPAÇO\n",
    "def numpy_array_sub(cpy=mcopy, dest=mcp, idx = 0):\n",
    "    return mcp.toarray() - mcp[idx].toarray()\n"
   ]
  },
  {
   "cell_type": "code",
   "execution_count": 9,
   "metadata": {
    "scrolled": true
   },
   "outputs": [],
   "source": [
    "# Define algumas funções candidatas a substituir a subtração com conversão direta\n",
    "# para array a partir de matriz esparsa.\n",
    "mc0ToArray = mc0.toarray()\n",
    "# Ok.\n",
    "def numpy_gambs_sub(cpy=mcopy, dest=mcp, idx = 0):\n",
    "    return np.array([*mcp]) - np.array(mcp.shape[0]*[mcp[idx]])\n",
    "\n",
    "_sub = lambda a,b: a - b\n",
    "_vsub = np.frompyfunc(_sub, 2, 1)\n",
    "# Ok, however in 'ramdom' order (correct submatrix)\n",
    "def vectorizedpy_sub(cpy=mcopy, dest=mcp, idx = 0):\n",
    "    return _vsub(np.array([*mcp]), mc0)\n",
    "\n",
    "# Ok. Same as 'vectorized_sub' \n",
    "def vectorized_gambs(cpy=mcopy, dest=mcp, idx = 0):\n",
    "    return _vsub([*mcp], mc0)\n",
    "\n",
    "# TESTANTO\n",
    "def _sub_stupid(a, b):\n",
    "    return a - b\n",
    "\n",
    "_stupid_vec = np.frompyfunc(_sub_stupid, 2, 1)\n",
    "def stupid_method(cpy=mcopy, dest=mcp, idx = 0):\n",
    "    mc0ar = np.array(mc0)\n",
    "    return _stupid_vec([*mcp], mc0ar)\n",
    "\n",
    "# IDEIA ORIGINALL\n",
    "_to_sub = np.arange( 0, mcp.shape[0], dtype=csr_matrix )\n",
    "\n",
    "_to_sub[np.array(range(mcp.shape[0]))] = mc0\n",
    "def original_idea(cpy=mcopy, dest=mcp, idx = 0):\n",
    "    return [*mcp] - _to_sub\n",
    "\n",
    "# Parece LENTO\n",
    "def original_lil(cpy=mcopy, dest=mcp, idx = 0):\n",
    "    return [*mcp.tolil()] -np.array([mc0])\n",
    "# Ok. Simples e FUNCIONA\n",
    "def simple_sub(cpy=mcopy, dest=mcp, idx = 0):\n",
    "    return np.array([*mcp]) - [mcp[0]]"
   ]
  },
  {
   "cell_type": "code",
   "execution_count": 10,
   "metadata": {},
   "outputs": [
    {
     "name": "stdout",
     "output_type": "stream",
     "text": [
      "(1, 134410)\n",
      "18846\n"
     ]
    }
   ],
   "source": [
    "print(mcp[0].shape)\n",
    "print(mcp.shape[0])\n",
    "\n",
    "_sub = lambda a,b: a - b\n",
    "_vsub = np.frompyfunc(_sub, 2, 1)\n",
    "# Ok, however in 'ramdom' order (correct submatrix)\n",
    "def vectorizedpy_sub(cpy=mcopy, dest=mcp, idx = 0):\n",
    "    return _vsub(np.array([*mcp]), mc0)\n",
    "\n",
    "# vectorized_sub()\n",
    "# vectorize_toarray()\n",
    "# np.array([*mcp])"
   ]
  },
  {
   "cell_type": "code",
   "execution_count": 11,
   "metadata": {},
   "outputs": [],
   "source": [
    "benchmark_small = {}\n",
    "benchmark_big = {}"
   ]
  }
 ],
 "metadata": {
  "kernelspec": {
   "display_name": "Python 3",
   "language": "python",
   "name": "python3"
  },
  "language_info": {
   "codemirror_mode": {
    "name": "ipython",
    "version": 3
   },
   "file_extension": ".py",
   "mimetype": "text/x-python",
   "name": "python",
   "nbconvert_exporter": "python",
   "pygments_lexer": "ipython3",
   "version": "3.7.2"
  }
 },
 "nbformat": 4,
 "nbformat_minor": 2
}
