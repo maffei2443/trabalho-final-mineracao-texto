{
 "cells": [
  {
   "cell_type": "code",
   "execution_count": 33,
   "metadata": {},
   "outputs": [],
   "source": [
    "from scipy.sparse import *\n",
    "from time import time\n",
    "from sklearn.feature_extraction.text import TfidfVectorizer\n",
    "import numpy as np\n",
    "from sklearn import datasets\n",
    "from importlib import reload as rl\n",
    "import aux\n",
    "import json  # salvar benchmarks\n",
    "import timeit\n",
    "import scipy\n"
   ]
  },
  {
   "cell_type": "code",
   "execution_count": 3,
   "metadata": {},
   "outputs": [],
   "source": [
    "categories = [\n",
    "    'alt.atheism',\n",
    "    'talk.religion.misc',\n",
    "    'comp.graphics',\n",
    "    'sci.space',\n",
    "]\n",
    "\n",
    "news_bunch = datasets.fetch_20newsgroups(subset='all',\n",
    "                              remove=('headers', 'footers', 'quotes'))\n",
    " \n",
    "X_news_all = TfidfVectorizer().fit_transform(news_bunch.data)\n",
    "\n",
    "Y_news_all = news_bunch.target\n"
   ]
  },
  {
   "cell_type": "markdown",
   "metadata": {},
   "source": [
    "#### Inicializa corpus e também a versão Tfidf dele"
   ]
  },
  {
   "cell_type": "code",
   "execution_count": 40,
   "metadata": {},
   "outputs": [],
   "source": [
    "def shrink_cp():\n",
    "    global cp\n",
    "    cp = [ \n",
    "        'o sapo nao lava op peh nao lava porque nao quer', \n",
    "        'ele mora la na lagoa não lava o pé porque não quer', \n",
    "        'mas que chulé!', \n",
    "        'Ele mora lá na lagoa não lava o pé porque não quer' \n",
    "    ]\n",
    "    _complementary_cp()\n",
    "def expand_cp():\n",
    "    global cp\n",
    "    cp = news_bunch.data\n",
    "    _complementary_cp()\n",
    "\n",
    "def _complementary_cp():\n",
    "    global mcp, mcopy, mc0, mc0ar\n",
    "    mcp = TfidfVectorizer().fit_transform(cp)\n",
    "    mcopy = mcp.copy()\n",
    "    mc0 = mcp[0]\n",
    "    mc0ar = mc0.toarray()"
   ]
  },
  {
   "cell_type": "code",
   "execution_count": 46,
   "metadata": {},
   "outputs": [
    {
     "ename": "SyntaxError",
     "evalue": "invalid syntax (<timeit-src>, line 1)",
     "output_type": "error",
     "traceback": [
      "Traceback \u001b[0;36m(most recent call last)\u001b[0m:\n",
      "  File \u001b[1;32m\"/home/leomaffei/.pyenv/versions/3.7.2/lib/python3.7/site-packages/IPython/core/interactiveshell.py\"\u001b[0m, line \u001b[1;32m3296\u001b[0m, in \u001b[1;35mrun_code\u001b[0m\n    exec(code_obj, self.user_global_ns, self.user_ns)\n",
      "  File \u001b[1;32m\"<ipython-input-46-28fb2ce49132>\"\u001b[0m, line \u001b[1;32m19\u001b[0m, in \u001b[1;35m<module>\u001b[0m\n    loop_time_function(1, print, 3)\n",
      "  File \u001b[1;32m\"<ipython-input-46-28fb2ce49132>\"\u001b[0m, line \u001b[1;32m16\u001b[0m, in \u001b[1;35mloop_time_function\u001b[0m\n    number=1, repeat=n, setup=f'func = {func}', globals=globals())\n",
      "  File \u001b[1;32m\"/home/leomaffei/.pyenv/versions/3.7.2/lib/python3.7/timeit.py\"\u001b[0m, line \u001b[1;32m237\u001b[0m, in \u001b[1;35mrepeat\u001b[0m\n    return Timer(stmt, setup, timer, globals).repeat(repeat, number)\n",
      "\u001b[0;36m  File \u001b[0;32m\"/home/leomaffei/.pyenv/versions/3.7.2/lib/python3.7/timeit.py\"\u001b[0;36m, line \u001b[0;32m109\u001b[0;36m, in \u001b[0;35m__init__\u001b[0;36m\u001b[0m\n\u001b[0;31m    compile(setup, dummy_src_name, \"exec\")\u001b[0m\n",
      "\u001b[0;36m  File \u001b[0;32m\"<timeit-src>\"\u001b[0;36m, line \u001b[0;32m1\u001b[0m\n\u001b[0;31m    func = <built-in function print>\u001b[0m\n\u001b[0m           ^\u001b[0m\n\u001b[0;31mSyntaxError\u001b[0m\u001b[0;31m:\u001b[0m invalid syntax\n"
     ]
    }
   ],
   "source": [
    "def time_function(func, *args, **kargs):\n",
    "    def wrap():\n",
    "        if kargs:\n",
    "            return func(*args, kargs)\n",
    "        else:\n",
    "            return func(*args)\n",
    "        \n",
    "    return timeit.timeit(wrap)\n",
    "\n",
    "def loop_time_function(n, func, *args, **kargs):\n",
    "    \"\"\"\" Executa n vezes a função func, passando args e kargs como argumento.\n",
    "    Seu retorno é a soma dos tempos de execução de cada chamada à função.\n",
    "    \"\"\"\n",
    "    return sum( \n",
    "        timeit.repeat(stmt=f'func(*args, **kargs)', \n",
    "                      number=1, repeat=n, setup=f'func = {func}', globals=globals())\n",
    "#         (time_function(func, *args, **kargs) for _ in range(n) ) \n",
    "    )\n",
    "loop_time_function(1, print, 3)"
   ]
  },
  {
   "cell_type": "code",
   "execution_count": 6,
   "metadata": {},
   "outputs": [],
   "source": [
    "expand_cp()"
   ]
  },
  {
   "cell_type": "markdown",
   "metadata": {},
   "source": [
    "## Código para subtração manual, elemento a elemento\n",
    "    + executou de forma consistentemente mais lenta que as versões vetorizadas"
   ]
  },
  {
   "cell_type": "code",
   "execution_count": 7,
   "metadata": {},
   "outputs": [],
   "source": [
    "def manual_sub(cpy=mcopy, dest=mcp, idx = 0):\n",
    "    global mc0\n",
    "    mcp[0] - mc0\n",
    "    mcp[1] - mc0\n",
    "    mcp[2] - mc0\n",
    "    mcp[3] - mc0"
   ]
  },
  {
   "cell_type": "markdown",
   "metadata": {},
   "source": [
    "## Subtração ao se converter tudo para np.array foi a mais veloz\n",
    "    \n",
    "    Contudo, inviável para conjuntos maiores de dados (alta complexidade de espaço) conforme demonstrado ao se tentar utilizar essa estratégia com o dataset de notícias\n",
    "    20newsgroup.\n",
    "```python\n",
    "# PROBLEMA: COMPLEXIDADE DE ESPAÇO\n",
    "def numpy_array_sub(cpy=mcopy, dest=mcp, idx = 0):\n",
    "    cpy.toarray() - cpy[idx].toarray()\n",
    "```"
   ]
  },
  {
   "cell_type": "code",
   "execution_count": 8,
   "metadata": {},
   "outputs": [],
   "source": [
    "# PROBLEMA: COMPLEXIDADE DE ESPAÇO\n",
    "def numpy_array_sub(cpy=mcopy, dest=mcp, idx = 0):\n",
    "    return mcp.toarray() - mcp[idx].toarray()\n"
   ]
  },
  {
   "cell_type": "code",
   "execution_count": 9,
   "metadata": {
    "scrolled": true
   },
   "outputs": [],
   "source": [
    "# Define algumas funções candidatas a substituir a subtração com conversão direta\n",
    "# para array a partir de matriz esparsa.\n",
    "mc0ToArray = mc0.toarray()\n",
    "# Ok.\n",
    "def numpy_gambs_sub(cpy=mcopy, dest=mcp, idx = 0):\n",
    "    return np.array([*mcp]) - np.array(mcp.shape[0]*[mcp[idx]])\n",
    "\n",
    "_sub = lambda a,b: a - b\n",
    "_vsub = np.frompyfunc(_sub, 2, 1)\n",
    "# Ok, however in 'ramdom' order (correct submatrix)\n",
    "def vectorizedpy_sub(cpy=mcopy, dest=mcp, idx = 0):\n",
    "    return _vsub(np.array([*mcp]), mc0)\n",
    "\n",
    "# Ok. Same as 'vectorized_sub' \n",
    "def vectorized_gambs(cpy=mcopy, dest=mcp, idx = 0):\n",
    "    return _vsub([*mcp], mc0)\n",
    "\n",
    "# TESTANTO\n",
    "def _sub_stupid(a, b):\n",
    "    return a - b\n",
    "\n",
    "_stupid_vec = np.frompyfunc(_sub_stupid, 2, 1)\n",
    "def stupid_method(cpy=mcopy, dest=mcp, idx = 0):\n",
    "    mc0ar = np.array(mc0)\n",
    "    return _stupid_vec([*mcp], mc0ar)\n",
    "\n",
    "# IDEIA ORIGINALL\n",
    "_to_sub = np.arange( 0, mcp.shape[0], dtype=csr_matrix )\n",
    "\n",
    "_to_sub[np.array(range(mcp.shape[0]))] = mc0\n",
    "def original_idea(cpy=mcopy, dest=mcp, idx = 0):\n",
    "    return [*mcp] - _to_sub\n",
    "\n",
    "# Parece LENTO\n",
    "def original_lil(cpy=mcopy, dest=mcp, idx = 0):\n",
    "    return [*mcp.tolil()] -np.array([mc0])\n",
    "# Ok. Simples e FUNCIONA\n",
    "def simple_sub(cpy=mcopy, dest=mcp, idx = 0):\n",
    "    return np.array([*mcp]) - [mcp[0]]"
   ]
  },
  {
   "cell_type": "code",
   "execution_count": 10,
   "metadata": {},
   "outputs": [
    {
     "name": "stdout",
     "output_type": "stream",
     "text": [
      "(1, 134410)\n",
      "18846\n"
     ]
    }
   ],
   "source": [
    "print(mcp[0].shape)\n",
    "print(mcp.shape[0])\n",
    "\n",
    "_sub = lambda a,b: a - b\n",
    "_vsub = np.frompyfunc(_sub, 2, 1)\n",
    "# Ok, however in 'ramdom' order (correct submatrix)\n",
    "def vectorizedpy_sub(cpy=mcopy, dest=mcp, idx = 0):\n",
    "    return _vsub(np.array([*mcp]), mc0)\n",
    "\n",
    "# vectorized_sub()\n",
    "# vectorize_toarray()\n",
    "# np.array([*mcp])"
   ]
  },
  {
   "cell_type": "code",
   "execution_count": 11,
   "metadata": {},
   "outputs": [],
   "source": [
    "benchmark_small = {}\n",
    "benchmark_big = {}"
   ]
  },
  {
   "cell_type": "code",
   "execution_count": 12,
   "metadata": {},
   "outputs": [],
   "source": [
    "# Apenas para efeitos de benchmark, usar um corpus pequeno\n",
    "# mc_small()\n",
    "corpus_big()"
   ]
  },
  {
   "cell_type": "code",
   "execution_count": 35,
   "metadata": {},
   "outputs": [],
   "source": [
    "# print(mcp[0])\n",
    "\n",
    "# MLE para os dois abaixo...\n",
    "ArraySub = lambda a, b:  a.toarray() - b\n",
    "ArraySubQuick = lambda a, b:  a.toarray() - mc0ar\n",
    "\n",
    "# Testar versão esparsa dos dois acima\n",
    "ArraySubCsr = lambda a, b:  csr_matrix(a.toarray() - b)\n",
    "ArraySubQuickCsr = lambda a, b:  csr_matrix(a.toarray() - mc0ar)\n",
    "\n",
    "frompyfuncArraySub = np.frompyfunc(ArraySub, 2, 1)\n",
    "frompyfuncArraySubQuick = np.frompyfunc(ArraySubQuick, 2, 1)\n",
    "frompyfuncArraySubCsr = np.frompyfunc(ArraySubCsr, 2, 1)\n",
    "frompyfuncArraySubQuickCsr = np.frompyfunc(ArraySubQuickCsr, 2, 1)\n",
    "_ = np.frompyfunc(_to_array, 2, 1)\n",
    "\n",
    "# MLE\n",
    "def frompysub1_mle(cpy=mcopy, dest=mcp, idx = 0):\n",
    "  return frompyfuncArraySub([*mcp], mc0)\n",
    "\n",
    "# Bons resultados, mas MLE\n",
    "def frompysub2_mle(cpy=mcopy, dest=mcp, idx = 0):\n",
    "  return frompyfuncArraySubQuick([*mcp], mc0)\n",
    "# Bons resultados, mas MLE\n",
    "def frompysub3_big(cpy=mcopy, dest=mcp, idx = 0):\n",
    "  return frompyfuncArraySubCsr([*mcp], mc0)\n",
    "def frompysub4_big(cpy=mcopy, dest=mcp, idx = 0):\n",
    "  return frompyfuncArraySubQuickCsr([*mcp], mc0)\n"
   ]
  },
  {
   "cell_type": "code",
   "execution_count": 14,
   "metadata": {},
   "outputs": [],
   "source": [
    "expand_cp()"
   ]
  },
  {
   "cell_type": "code",
   "execution_count": 58,
   "metadata": {},
   "outputs": [],
   "source": [
    "lista = [\n",
    "    ('numpy_gambs_sub', numpy_gambs_sub),\n",
    "    ('vectorizedpy_sub', vectorizedpy_sub),\n",
    "    ('vectorized_gambs', vectorized_gambs),\n",
    "    ('stupid_method', stupid_method),\n",
    "    ('original_idea', original_idea),\n",
    "    ('original_lil', original_lil),\n",
    "    ('simple_sub', simple_sub),\n",
    "    ('numpy_array_sub', numpy_array_sub),\n",
    "    ('frompysub1_mle', frompysub1_mle),\n",
    "    ('frompysub2_mle', frompysub2_mle),\n",
    "    ('frompysub3_big', frompysub3_big),\n",
    "    ('frompysub4_big', frompysub4_big),\n",
    "]\n",
    "\n",
    "to_run = [\n",
    "    ('numpy_gambs_sub', numpy_gambs_sub),\n",
    "    ('vectorizedpy_sub', vectorizedpy_sub),\n",
    "    ('vectorized_gambs', vectorized_gambs),\n",
    "    ('stupid_method', stupid_method),\n",
    "    ('original_idea', original_idea),\n",
    "    ('original_lil', original_lil),\n",
    "    ('simple_sub', simple_sub),\n",
    "#     ('frompysub1_mle', frompysub1_mle),\n",
    "#     ('frompysub2_mle', frompysub2_mle),\n",
    "    ('frompysub3_big', frompysub3_big),\n",
    "    ('frompysub4_big', frompysub4_big),\n",
    "#     ('numpy_array_sub', numpy_array_sub), # MLE\n",
    "]"
   ]
  },
  {
   "cell_type": "code",
   "execution_count": 54,
   "metadata": {},
   "outputs": [
    {
     "name": "stdout",
     "output_type": "stream",
     "text": [
      "rep:   1, num:   1\n",
      "numpy_gambs_sub          :             3.316244\n"
     ]
    }
   ],
   "source": [
    "def timeSubtractions(repeat = 100, number = 100, pairs_name_func=to_run):\n",
    "  d = {}\n",
    "  for k, v in to_run:\n",
    "    d[k] = timeit.repeat(\n",
    "        stmt=v,\n",
    "        globals=globals(), repeat=repeat, number=number)\n",
    "  return repeat, number, d\n",
    "\n",
    "# benchmark[big|small] -> nome -> (num, rep) -> (minimo, tempos)\n",
    "benchmark = benchmark_small if mcp.shape[0] < 1000 else benchmark_big\n",
    "for name, _ in to_run:\n",
    "    if name not in benchmark:\n",
    "        benchmark[name] = {}\n",
    "\n",
    "rep, num , dic = timeSubtractions(repeat = 1, number=1)\n",
    "# print(dic)\n",
    "for name, _ in to_run:\n",
    "    if (rep, num) not in benchmark[name]:\n",
    "        benchmark[name][(rep, num)] = []\n",
    "    benchmark[name][(rep, num)].extend( dic[name] )\n",
    "\n",
    "# del benchmark\n",
    "print(f\"rep: {rep:3d}, num: {num:3d}\")\n",
    "for k,v in sorted(dic.items(), key=lambda x: min(x[1])):\n",
    "    print(f\"{k:25s}: {min(v):20f}\")"
   ]
  },
  {
   "cell_type": "code",
   "execution_count": 59,
   "metadata": {},
   "outputs": [
    {
     "name": "stdout",
     "output_type": "stream",
     "text": [
      "{'numpy_gambs_sub': [2.670005959000264], 'vectorizedpy_sub': [4.44353371500074], 'vectorized_gambs': [4.421214942000006], 'stupid_method': [4.582733500000359], 'original_idea': [4.570779548000246], 'original_lil': [6.863401900999634], 'simple_sub': [2.901210232000267], 'frompysub3_big': [27.09735780199935], 'frompysub4_big': [25.182184639000297]}\n",
      "numpy_gambs_sub      => 2.6700060\n",
      "simple_sub           => 2.9012102\n",
      "vectorized_gambs     => 4.4212149\n",
      "vectorizedpy_sub     => 4.4435337\n",
      "original_idea        => 4.5707795\n",
      "stupid_method        => 4.5827335\n",
      "original_lil         => 6.8634019\n",
      "frompysub4_big       => 25.1821846\n",
      "frompysub3_big       => 27.0973578\n",
      "\n",
      "\n"
     ]
    }
   ],
   "source": [
    "nn = 1\n",
    "for _ in range(1):\n",
    "    if not benchmark.get(nn):\n",
    "      benchmark[nn] = {}\n",
    "      for key, _ in to_run:\n",
    "        benchmark[nn][key] = []\n",
    "    else:\n",
    "      d = benchmark[nn]\n",
    "      for key, fun in to_run:\n",
    "        if key not in d:\n",
    "            benchmark[nn][key] = []\n",
    "\n",
    "    dict_times = {}\n",
    "    for key, func in to_run:\n",
    "      globals()['func'] = func\n",
    "      spent = timeit.repeat(stmt=f'func()', \n",
    "                      number=1, repeat=nn, globals=globals())\n",
    "      dict_times[key] = spent\n",
    "      benchmark[nn][key].append(spent)\n",
    "\n",
    "\n",
    "\n",
    "    # dict_times['numpy_sub'] = loop_time_function(nn, numpy_array_sub)\n",
    "    rl(aux)\n",
    "    print(dict_times)\n",
    "    aux.ShowOrderedDictList(dict_times, option='values')\n",
    "    print('\\n')"
   ]
  },
  {
   "cell_type": "code",
   "execution_count": null,
   "metadata": {},
   "outputs": [],
   "source": [
    "rl(aux)\n",
    "aux.ShowOrderedDictList(benchmark.get(nn, {}), option='values', smallTime=True)\n",
    "print('====================')\n",
    "aux.ShowOrderedDictList(benchmark.get(nn, {}), option='values', smallTime=False)"
   ]
  }
 ],
 "metadata": {
  "kernelspec": {
   "display_name": "Python 3",
   "language": "python",
   "name": "python3"
  },
  "language_info": {
   "codemirror_mode": {
    "name": "ipython",
    "version": 3
   },
   "file_extension": ".py",
   "mimetype": "text/x-python",
   "name": "python",
   "nbconvert_exporter": "python",
   "pygments_lexer": "ipython3",
   "version": "3.7.2"
  }
 },
 "nbformat": 4,
 "nbformat_minor": 2
}
