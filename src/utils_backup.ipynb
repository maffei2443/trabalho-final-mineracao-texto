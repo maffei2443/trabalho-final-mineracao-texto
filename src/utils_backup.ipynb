{
 "cells": [
  {
   "cell_type": "code",
   "execution_count": 1,
   "metadata": {},
   "outputs": [],
   "source": [
    "from scipy.sparse import *\n",
    "from time import time\n",
    "from sklearn.feature_extraction.text import TfidfVectorizer\n",
    "import numpy as np\n",
    "from sklearn import datasets\n",
    "from importlib import reload as rl\n",
    "import aux\n",
    "import json  # salvar benchmarks\n",
    "import timeit\n",
    "import scipy\n"
   ]
  },
  {
   "cell_type": "code",
   "execution_count": 2,
   "metadata": {},
   "outputs": [],
   "source": [
    "categories = [\n",
    "    'alt.atheism',\n",
    "    'talk.religion.misc',\n",
    "    'comp.graphics',\n",
    "    'sci.space',\n",
    "]\n",
    "\n",
    "news_bunch = datasets.fetch_20newsgroups(subset='all',\n",
    "                              remove=('headers', 'footers', 'quotes'))\n",
    " \n",
    "X_news_all = TfidfVectorizer().fit_transform(news_bunch.data)\n",
    "\n",
    "Y_news_all = news_bunch.target\n"
   ]
  },
  {
   "cell_type": "markdown",
   "metadata": {},
   "source": [
    "#### Inicializa corpus e também a versão Tfidf dele"
   ]
  },
  {
   "cell_type": "code",
   "execution_count": 3,
   "metadata": {},
   "outputs": [],
   "source": [
    "def shrink_cp():\n",
    "    global cp\n",
    "    cp = [ \n",
    "        'o sapo nao lava op peh nao lava porque nao quer', \n",
    "        'ele mora la na lagoa não lava o pé porque não quer', \n",
    "        'mas que chulé!', \n",
    "        'Ele mora lá na lagoa não lava o pé porque não quer' \n",
    "    ]\n",
    "    _complementary_cp()\n",
    "def expand_cp(reduce_by = 10):\n",
    "    global cp\n",
    "    cp = news_bunch.data[::reduce_by]\n",
    "    _complementary_cp()\n",
    "\n",
    "def _complementary_cp():\n",
    "    global mcp, mcopy, mc0, mc0ar\n",
    "    mcp = TfidfVectorizer().fit_transform(cp)\n",
    "    mcp\n",
    "    mcopy = mcp.copy()\n",
    "    mc0 = mcp[0]\n",
    "    mc0ar = mc0.toarray()"
   ]
  },
  {
   "cell_type": "code",
   "execution_count": 4,
   "metadata": {},
   "outputs": [],
   "source": [
    "def time_function(func, *args, **kargs):\n",
    "    def wrap():\n",
    "        if kargs:\n",
    "            return func(*args, kargs)\n",
    "        else:\n",
    "            return func(*args)\n",
    "        \n",
    "    return timeit.timeit(wrap)\n",
    "\n",
    "def loop_time_function(n, func, *args, **kargs):\n",
    "    \"\"\"\" Executa n vezes a função func, passando args e kargs como argumento.\n",
    "    Seu retorno é a soma dos tempos de execução de cada chamada à função.\n",
    "    \"\"\"\n",
    "    return sum( \n",
    "        timeit.repeat(stmt=f'func(*args, **kargs)', \n",
    "                      number=1, repeat=n, setup=f'func = {func}', globals=globals())\n",
    "#         (time_function(func, *args, **kargs) for _ in range(n) ) \n",
    "    )\n",
    "# loop_time_function(1, print, 3)"
   ]
  },
  {
   "cell_type": "code",
   "execution_count": 26,
   "metadata": {},
   "outputs": [],
   "source": [
    "# expand_cp(reduce_by = 5)"
   ]
  },
  {
   "cell_type": "markdown",
   "metadata": {},
   "source": [
    "## Código para subtração manual, elemento a elemento\n",
    "    + executou de forma consistentemente mais lenta que as versões vetorizadas"
   ]
  },
  {
   "cell_type": "code",
   "execution_count": 5,
   "metadata": {},
   "outputs": [
    {
     "ename": "NameError",
     "evalue": "name 'mcopy' is not defined",
     "output_type": "error",
     "traceback": [
      "\u001b[0;31m---------------------------------------------------------------------------\u001b[0m",
      "\u001b[0;31mNameError\u001b[0m                                 Traceback (most recent call last)",
      "\u001b[0;32m<ipython-input-5-a0f99e1d8565>\u001b[0m in \u001b[0;36m<module>\u001b[0;34m\u001b[0m\n\u001b[0;32m----> 1\u001b[0;31m \u001b[0;32mdef\u001b[0m \u001b[0mmanual_sub\u001b[0m\u001b[0;34m(\u001b[0m\u001b[0mcpy\u001b[0m\u001b[0;34m=\u001b[0m\u001b[0mmcopy\u001b[0m\u001b[0;34m,\u001b[0m \u001b[0mdest\u001b[0m\u001b[0;34m=\u001b[0m\u001b[0mmcp\u001b[0m\u001b[0;34m,\u001b[0m \u001b[0midx\u001b[0m \u001b[0;34m=\u001b[0m \u001b[0;36m0\u001b[0m\u001b[0;34m)\u001b[0m\u001b[0;34m:\u001b[0m\u001b[0;34m\u001b[0m\u001b[0;34m\u001b[0m\u001b[0m\n\u001b[0m\u001b[1;32m      2\u001b[0m     \u001b[0;32mglobal\u001b[0m \u001b[0mmc0\u001b[0m\u001b[0;34m\u001b[0m\u001b[0;34m\u001b[0m\u001b[0m\n\u001b[1;32m      3\u001b[0m     \u001b[0mmcp\u001b[0m\u001b[0;34m[\u001b[0m\u001b[0;36m0\u001b[0m\u001b[0;34m]\u001b[0m \u001b[0;34m-\u001b[0m \u001b[0mmc0\u001b[0m\u001b[0;34m\u001b[0m\u001b[0;34m\u001b[0m\u001b[0m\n\u001b[1;32m      4\u001b[0m     \u001b[0mmcp\u001b[0m\u001b[0;34m[\u001b[0m\u001b[0;36m1\u001b[0m\u001b[0;34m]\u001b[0m \u001b[0;34m-\u001b[0m \u001b[0mmc0\u001b[0m\u001b[0;34m\u001b[0m\u001b[0;34m\u001b[0m\u001b[0m\n\u001b[1;32m      5\u001b[0m     \u001b[0mmcp\u001b[0m\u001b[0;34m[\u001b[0m\u001b[0;36m2\u001b[0m\u001b[0;34m]\u001b[0m \u001b[0;34m-\u001b[0m \u001b[0mmc0\u001b[0m\u001b[0;34m\u001b[0m\u001b[0;34m\u001b[0m\u001b[0m\n",
      "\u001b[0;31mNameError\u001b[0m: name 'mcopy' is not defined"
     ]
    }
   ],
   "source": [
    "def manual_sub(cpy=mcopy, dest=mcp, idx = 0):\n",
    "    global mc0\n",
    "    mcp[0] - mc0\n",
    "    mcp[1] - mc0\n",
    "    mcp[2] - mc0\n",
    "    mcp[3] - mc0"
   ]
  },
  {
   "cell_type": "markdown",
   "metadata": {},
   "source": [
    "## Subtração ao se converter tudo para np.array foi a mais veloz\n",
    "    \n",
    "    Contudo, inviável para conjuntos maiores de dados (alta complexidade de espaço) conforme demonstrado ao se tentar utilizar essa estratégia com o dataset de notícias\n",
    "    20newsgroup.\n",
    "```python\n",
    "# PROBLEMA: COMPLEXIDADE DE ESPAÇO\n",
    "def numpy_array_sub(cpy=mcopy, dest=mcp, idx = 0):\n",
    "    cpy.toarray() - cpy[idx].toarray()\n",
    "```"
   ]
  },
  {
   "cell_type": "code",
   "execution_count": 45,
   "metadata": {},
   "outputs": [],
   "source": [
    "# PROBLEMA: COMPLEXIDADE DE ESPAÇO\n",
    "def numpy_array_sub(cpy=mcopy, dest=mcp, idx = 0):\n",
    "    return mcp.toarray() - mcp[idx].toarray()\n"
   ]
  },
  {
   "cell_type": "code",
   "execution_count": 8,
   "metadata": {},
   "outputs": [],
   "source": [
    "shrink_cp()\n",
    "SetPreambleOfSubtractors()"
   ]
  },
  {
   "cell_type": "code",
   "execution_count": 17,
   "metadata": {
    "scrolled": true
   },
   "outputs": [
    {
     "name": "stdout",
     "output_type": "stream",
     "text": [
      "[[ 0.          0.          0.          0.          0.          0.\n",
      "   0.          0.          0.          0.          0.          0.\n",
      "   0.          0.          0.          0.          0.          0.        ]\n",
      " [ 0.          0.28199731  0.35767783  0.28199731 -0.10758753  0.\n",
      "   0.          0.28199731  0.28199731 -0.78935173  0.56399462 -0.26311724\n",
      "  -0.26311724  0.0603568   0.28199731  0.          0.0603568  -0.26311724]\n",
      " [ 0.57735027  0.          0.          0.         -0.33588866  0.\n",
      "   0.57735027  0.          0.         -0.78935173  0.         -0.26311724\n",
      "  -0.26311724 -0.16794433  0.          0.57735027 -0.16794433 -0.26311724]\n",
      " [ 0.          0.28199731  0.          0.28199731 -0.10758753  0.35767783\n",
      "   0.          0.28199731  0.28199731 -0.78935173  0.56399462 -0.26311724\n",
      "  -0.26311724  0.0603568   0.28199731  0.          0.0603568  -0.26311724]]\n"
     ]
    }
   ],
   "source": [
    "print(mcp.toarray() - mcp[0].toarray())\n",
    "diff = mcp.toarray() - mcp[0].toarray()"
   ]
  },
  {
   "cell_type": "code",
   "execution_count": 18,
   "metadata": {},
   "outputs": [
    {
     "name": "stdout",
     "output_type": "stream",
     "text": [
      "[0.         1.30125515 1.41421356 1.30125515]\n"
     ]
    }
   ],
   "source": [
    "from numpy import linalg as LA\n",
    "print(LA.norm(diff, axis=1))\n"
   ]
  },
  {
   "cell_type": "code",
   "execution_count": 9,
   "metadata": {
    "scrolled": true
   },
   "outputs": [],
   "source": [
    "# Define algumas funções candidatas a substituir a subtração com conversão direta\n",
    "# para array a partir de matriz esparsa.\n",
    "\n",
    "def SetPreambleOfSubtractors():        \n",
    "    global mc0ToArray, _sub, _vsub, _stupid_vec, _to_sub, _to_sub\n",
    "    mc0ToArray = mc0.toarray()\n",
    "    _sub = lambda a,b: a - b\n",
    "    _vsub = np.frompyfunc(_sub, 2, 1)\n",
    "    _stupid_vec = np.frompyfunc(_sub_stupid, 2, 1)\n",
    "    _to_sub = np.arange( 0, mcp.shape[0], dtype=csr_matrix )\n",
    "    _to_sub[np.array(range(mcp.shape[0]))] = mc0\n",
    "\n",
    "# SetPreambleOfSubtractors()\n",
    "# Ok.\n",
    "def numpy_gambs_sub(cpy=mcopy, dest=mcp, idx = 0):\n",
    "    return np.array([*mcp]) - np.array(mcp.shape[0]*[mcp[idx]])\n",
    "\n",
    "# Ok, however in 'ramdom' order (correct submatrix)\n",
    "def vectorizedpy_sub(cpy=mcopy, dest=mcp, idx = 0):\n",
    "    return _vsub(np.array([*mcp]), mc0)\n",
    "\n",
    "# Ok. Same as 'vectorized_sub' \n",
    "def vectorized_gambs(cpy=mcopy, dest=mcp, idx = 0):\n",
    "    return _vsub([*mcp], mc0)\n",
    "\n",
    "# TESTANTO\n",
    "def _sub_stupid(a, b):\n",
    "    return a - b\n",
    "\n",
    "def stupid_method(cpy=mcopy, dest=mcp, idx = 0):\n",
    "    mc0ar = np.array(mc0)\n",
    "    return _stupid_vec([*mcp], mc0ar)\n",
    "\n",
    "# IDEIA ORIGINALL\n",
    "def original_idea(cpy=mcopy, dest=mcp, idx = 0):\n",
    "    return [*mcp] - _to_sub\n",
    "\n",
    "# Parece LENTO\n",
    "def original_lil(cpy=mcopy, dest=mcp, idx = 0):\n",
    "    return [*mcp.tolil()] -np.array([mc0])\n",
    "# Ok. Simples e FUNCIONA\n",
    "def simple_sub(cpy=mcopy, dest=mcp, idx = 0):\n",
    "    return np.array([*mcp]) - [mcp[0]]\n",
    "def simple_sub_rev(cpy=mcopy, dest=mcp, idx = 0):\n",
    "    return [*mcp] - np.array([mcp[0]])\n",
    "\n",
    "\n",
    "_power_array_of_mat = np.frompyfunc(lambda x: np.power(x.toarray(), 2), 1, 1)\n",
    "_norm_array_of_mat = np.frompyfunc(lambda x: sparse.linalg.norm(x), 1, 1) \n",
    "\n",
    "_norma_direto_sub = np.frompyfunc(lambda x: np.power(scipy.linalg.norm(x.toarray()), 2), 1, 1)\n",
    "\n",
    "def sub_sparse_sparse(cpy=mcopy, dest=mcp, idx = 0):\n",
    "    return _norm_array_of_mat( _power_array_of_mat( [*mcp] - np.array([mcp[1]]) ) )"
   ]
  },
  {
   "cell_type": "code",
   "execution_count": 10,
   "metadata": {},
   "outputs": [
    {
     "name": "stdout",
     "output_type": "stream",
     "text": [
      "  (0, 17)\t0.26311724478937853\n",
      "  (0, 9)\t0.7893517343681357\n",
      "  (0, 4)\t0.3358886580732319\n",
      "  (0, 11)\t0.26311724478937853\n",
      "  (0, 12)\t0.26311724478937853\n",
      "  (0, 13)\t0.16794432903661596\n",
      "  (0, 16)\t0.16794432903661596\n",
      "  (1, 4)\t0.2283011273738551\n",
      "  (1, 13)\t0.2283011273738551\n",
      "  (1, 16)\t0.2283011273738551\n",
      "  (1, 1)\t0.2819973115996728\n",
      "  (1, 7)\t0.2819973115996728\n",
      "  (1, 2)\t0.3576778326573981\n",
      "  (1, 8)\t0.2819973115996728\n",
      "  (1, 3)\t0.2819973115996728\n",
      "  (1, 10)\t0.5639946231993456\n",
      "  (1, 14)\t0.2819973115996728\n",
      "  (2, 6)\t0.5773502691896257\n",
      "  (2, 15)\t0.5773502691896257\n",
      "  (2, 0)\t0.5773502691896257\n",
      "  (3, 4)\t0.2283011273738551\n",
      "  (3, 13)\t0.2283011273738551\n",
      "  (3, 16)\t0.2283011273738551\n",
      "  (3, 1)\t0.2819973115996728\n",
      "  (3, 7)\t0.2819973115996728\n",
      "  (3, 8)\t0.2819973115996728\n",
      "  (3, 3)\t0.2819973115996728\n",
      "  (3, 10)\t0.5639946231993456\n",
      "  (3, 14)\t0.2819973115996728\n",
      "  (3, 5)\t0.3576778326573981\n"
     ]
    },
    {
     "ename": "NameError",
     "evalue": "name 't' is not defined",
     "output_type": "error",
     "traceback": [
      "\u001b[0;31m---------------------------------------------------------------------------\u001b[0m",
      "\u001b[0;31mNameError\u001b[0m                                 Traceback (most recent call last)",
      "\u001b[0;32m<ipython-input-10-f1c1d3e52150>\u001b[0m in \u001b[0;36m<module>\u001b[0;34m\u001b[0m\n\u001b[1;32m      2\u001b[0m \u001b[0mprint\u001b[0m\u001b[0;34m(\u001b[0m\u001b[0mmcp\u001b[0m\u001b[0;34m)\u001b[0m\u001b[0;34m\u001b[0m\u001b[0;34m\u001b[0m\u001b[0m\n\u001b[1;32m      3\u001b[0m \u001b[0;31m# print(t)\u001b[0m\u001b[0;34m\u001b[0m\u001b[0;34m\u001b[0m\u001b[0;34m\u001b[0m\u001b[0m\n\u001b[0;32m----> 4\u001b[0;31m \u001b[0mprint\u001b[0m\u001b[0;34m(\u001b[0m\u001b[0mtype\u001b[0m\u001b[0;34m(\u001b[0m\u001b[0mt\u001b[0m\u001b[0;34m)\u001b[0m\u001b[0;34m)\u001b[0m\u001b[0;34m\u001b[0m\u001b[0;34m\u001b[0m\u001b[0m\n\u001b[0m\u001b[1;32m      5\u001b[0m \u001b[0;31m# print(mcp)\u001b[0m\u001b[0;34m\u001b[0m\u001b[0;34m\u001b[0m\u001b[0;34m\u001b[0m\u001b[0m\n\u001b[1;32m      6\u001b[0m \u001b[0mnorm_vect\u001b[0m \u001b[0;34m=\u001b[0m \u001b[0mnp\u001b[0m\u001b[0;34m.\u001b[0m\u001b[0mfrompyfunc\u001b[0m\u001b[0;34m(\u001b[0m\u001b[0;32mlambda\u001b[0m \u001b[0mx\u001b[0m\u001b[0;34m:\u001b[0m \u001b[0mnp\u001b[0m\u001b[0;34m.\u001b[0m\u001b[0mlinalg\u001b[0m\u001b[0;34m.\u001b[0m\u001b[0mnorm\u001b[0m\u001b[0;34m(\u001b[0m\u001b[0mx\u001b[0m\u001b[0;34m)\u001b[0m\u001b[0;34m,\u001b[0m \u001b[0;36m1\u001b[0m\u001b[0;34m,\u001b[0m \u001b[0;36m1\u001b[0m\u001b[0;34m)\u001b[0m\u001b[0;34m\u001b[0m\u001b[0;34m\u001b[0m\u001b[0m\n",
      "\u001b[0;31mNameError\u001b[0m: name 't' is not defined"
     ]
    }
   ],
   "source": [
    "rl(aux)\n",
    "print(mcp)\n",
    "# print(t)\n",
    "print(type(t))\n",
    "# print(mcp)\n",
    "norm_vect = np.frompyfunc(lambda x: np.linalg.norm(x), 1, 1)\n",
    "print(timeit.timeit(stmt='norm_vect(np.array(aux.csr_nonzero_tuple_array(mcp)))', globals=globals(), number=1 ))"
   ]
  },
  {
   "cell_type": "code",
   "execution_count": 213,
   "metadata": {},
   "outputs": [],
   "source": [
    "shrink_cp()\n",
    "# expand_cp(1)\n",
    "SetPreambleOfSubtractors()"
   ]
  },
  {
   "cell_type": "code",
   "execution_count": null,
   "metadata": {},
   "outputs": [],
   "source": [
    "diff = simple_sub_rev()\n",
    "x = lambda i: [*mcp] - np.array([mcp[i]])\n",
    "mat = x(1)\n",
    "row0 = mat[0]\n",
    "# print(scipy.linalg.norm( row0[row0.nonzero()]))\n",
    "def linalg_norm(m):\n",
    "#     print('hu! ', scipy.linalg.norm(m[m.nonzero()])) # FALHA SE É APENAS '0' A MATRIZ\n",
    "    return np.linalg.norm(m.data)\n",
    "\n",
    "vect_norm = np.frompyfunc(linalg_norm, 1, 1)\n",
    "vect_norm(mat)"
   ]
  },
  {
   "cell_type": "code",
   "execution_count": 212,
   "metadata": {
    "collapsed": true
   },
   "outputs": [
    {
     "name": "stdout",
     "output_type": "stream",
     "text": [
      "type(diff):  <class 'numpy.ndarray'>\n",
      "diff:  [<1x18 sparse matrix of type '<class 'numpy.float64'>'\n",
      "\twith 0 stored elements in Compressed Sparse Row format>\n",
      " <1x18 sparse matrix of type '<class 'numpy.float64'>'\n",
      "\twith 14 stored elements in Compressed Sparse Row format>\n",
      " <1x18 sparse matrix of type '<class 'numpy.float64'>'\n",
      "\twith 10 stored elements in Compressed Sparse Row format>\n",
      " <1x18 sparse matrix of type '<class 'numpy.float64'>'\n",
      "\twith 14 stored elements in Compressed Sparse Row format>]\n"
     ]
    }
   ],
   "source": [
    "print('type(diff): ', type(diff))\n",
    "print('diff: ', diff)\n"
   ]
  },
  {
   "cell_type": "code",
   "execution_count": 199,
   "metadata": {},
   "outputs": [],
   "source": [
    "def _smart_norma_direto_sub(x: 'matriz esparsa'):\n",
    "    x = x[x.nonzero()]\n",
    "    print(\"x: \", x)\n",
    "    print('t(x): ', type(x))\n",
    "    return scipy.linalg.norm(x) if x.nonzero() else 0\n",
    "\n",
    "smart_norma_direto_sub_vect = np.frompyfunc(_smart_norma_direto_sub, 1, 1)\n",
    "\n",
    "# tt = lambda x: np.power(scipy.linalg.norm(x.toarray()), 2)\n",
    "\n",
    "# r = _norma_direto_sub(t)\n",
    "# print(r)\n",
    "# print(tt(t[0]))\n",
    "# print('t: ', t)\n",
    "# print('t[1]: ', t[1])\n",
    "# print('scipy.linalg.norm(t[1].toarray()): ', \n",
    "#        scipy.linalg.norm(t[1].toarray()))\n",
    "# print('normal maldita', _norma_direto_sub(t[1]))\n",
    "\n",
    "# print('scipy.linalg.norm(t[1]): ', scipy.linalg.norm(t[1]))"
   ]
  },
  {
   "cell_type": "code",
   "execution_count": 200,
   "metadata": {
    "collapsed": true
   },
   "outputs": [
    {
     "name": "stdout",
     "output_type": "stream",
     "text": [
      "[<1x18 sparse matrix of type '<class 'numpy.float64'>'\n",
      "\twith 0 stored elements in Compressed Sparse Row format>\n",
      " <1x18 sparse matrix of type '<class 'numpy.float64'>'\n",
      "\twith 14 stored elements in Compressed Sparse Row format>\n",
      " <1x18 sparse matrix of type '<class 'numpy.float64'>'\n",
      "\twith 10 stored elements in Compressed Sparse Row format>\n",
      " <1x18 sparse matrix of type '<class 'numpy.float64'>'\n",
      "\twith 14 stored elements in Compressed Sparse Row format>]\n",
      "0.0020957670058123767\n"
     ]
    }
   ],
   "source": [
    "print(t)\n",
    "# print(t.shape)\n",
    "# print(t[1])\n",
    "# print(scipy.sparse.linalg.norm(t[1]))\n",
    "\n",
    "np.frompyfunc(scipy.sparse.linalg.norm, 1, 1)(t)\n",
    "# np.linalg.norm (t)\n",
    "\n",
    "\n",
    "print(timeit.timeit(stmt='np.frompyfunc(scipy.sparse.linalg.norm, 1, 1)(t)', globals=globals(), number=1 ))\n",
    "# print(timeit.timeit(stmt='smart_norma_direto_sub_vect(t)', globals=globals(), number=1 ))"
   ]
  },
  {
   "cell_type": "code",
   "execution_count": 201,
   "metadata": {},
   "outputs": [
    {
     "name": "stdout",
     "output_type": "stream",
     "text": [
      "(4, 18)\n",
      "(1, 18)\n"
     ]
    }
   ],
   "source": [
    "print(mcp.shape)\n",
    "print(mcp[0].shape)\n",
    "\n",
    "\n",
    "_sub = lambda a,b: a - b\n",
    "_vsub = np.frompyfunc(_sub, 2, 1)\n",
    "# Ok, however in 'ramdom' order (correct submatrix)\n",
    "def vectorizedpy_sub(cpy=mcopy, dest=mcp, idx = 0):\n",
    "    return _vsub(np.array([*mcp]), mc0)\n",
    "\n",
    "# vectorized_sub()\n",
    "# vectorize_toarray()\n",
    "# np.array([*mcp])"
   ]
  },
  {
   "cell_type": "code",
   "execution_count": 58,
   "metadata": {},
   "outputs": [],
   "source": [
    "benchmark_small = {}\n",
    "benchmark_big = {}"
   ]
  },
  {
   "cell_type": "code",
   "execution_count": 17,
   "metadata": {},
   "outputs": [],
   "source": [
    "# print(mcp[0])\n",
    "\n",
    "# MLE para os dois abaixo...\n",
    "ArraySub = lambda a, b:  a.toarray() - b\n",
    "ArraySubQuick = lambda a, b:  a.toarray() - mc0ar\n",
    "\n",
    "# Testar versão esparsa dos dois acima\n",
    "ArraySubCsr = lambda a, b:  csr_matrix(a.toarray() - b)\n",
    "ArraySubQuickCsr = lambda a, b:  csr_matrix(a.toarray() - mc0ar)\n",
    "\n",
    "frompyfuncArraySub = np.frompyfunc(ArraySub, 2, 1)\n",
    "frompyfuncArraySubQuick = np.frompyfunc(ArraySubQuick, 2, 1)\n",
    "frompyfuncArraySubCsr = np.frompyfunc(ArraySubCsr, 2, 1)\n",
    "frompyfuncArraySubQuickCsr = np.frompyfunc(ArraySubQuickCsr, 2, 1)\n",
    "\n",
    "# MLE\n",
    "def frompysub1_mle(cpy=mcopy, dest=mcp, idx = 0):\n",
    "  return frompyfuncArraySub([*mcp], mc0)\n",
    "\n",
    "# Bons resultados, mas MLE\n",
    "def frompysub2_mle(cpy=mcopy, dest=mcp, idx = 0):\n",
    "  return frompyfuncArraySubQuick([*mcp], mc0)\n",
    "# Bons resultados, mas MLE\n",
    "def frompysub3_big(cpy=mcopy, dest=mcp, idx = 0):\n",
    "  return frompyfuncArraySubCsr([*mcp], mc0)\n",
    "def frompysub4_big(cpy=mcopy, dest=mcp, idx = 0):\n",
    "  return frompyfuncArraySubQuickCsr([*mcp], mc0)\n"
   ]
  },
  {
   "cell_type": "code",
   "execution_count": 51,
   "metadata": {},
   "outputs": [],
   "source": [
    "expand_cp(reduce_by = 1)"
   ]
  },
  {
   "cell_type": "code",
   "execution_count": 71,
   "metadata": {},
   "outputs": [
    {
     "name": "stdout",
     "output_type": "stream",
     "text": [
      "rep:   1, num:   1\n",
      "simple_sub_rev           :             2.590906\n",
      "simple_sub               :             2.739317\n"
     ]
    }
   ],
   "source": [
    "lista = [\n",
    "    ('numpy_gambs_sub', numpy_gambs_sub),\n",
    "    ('vectorizedpy_sub', vectorizedpy_sub),\n",
    "    ('vectorized_gambs', vectorized_gambs),\n",
    "    ('stupid_method', stupid_method),\n",
    "    ('original_idea', original_idea),\n",
    "    ('original_lil', original_lil),\n",
    "    ('simple_sub', simple_sub),\n",
    "    ('simple_sub_rev', simple_sub),\n",
    "    ('numpy_array_sub', numpy_array_sub),\n",
    "    ('frompysub1_mle', frompysub1_mle),\n",
    "    ('frompysub2_mle', frompysub2_mle),\n",
    "    ('frompysub3_big', frompysub3_big),\n",
    "    ('frompysub4_big', frompysub4_big),\n",
    "]\n",
    "\n",
    "to_run = [\n",
    "#     ('original_idea', original_idea), # OK\n",
    "#     ('numpy_gambs_sub', numpy_gambs_sub), # OK\n",
    "#     ('vectorizedpy_sub', vectorizedpy_sub), # OK\n",
    "#     ('vectorized_gambs', vectorized_gambs), # OK\n",
    "#     ('stupid_method', stupid_method), # OK\n",
    "#     ('original_lil', original_lil), # OK\n",
    "    ('simple_sub', simple_sub), # OK\n",
    "    ('simple_sub_rev', simple_sub_rev),\n",
    "\n",
    "#     ('frompysub3_big', frompysub3_big),\n",
    "#     ('frompysub4_big', frompysub4_big),\n",
    "#     ('frompysub1_mle', frompysub1_mle),\n",
    "#     ('frompysub2_mle', frompysub2_mle),\n",
    "#     ('numpy_array_sub', numpy_array_sub), # MLE\n",
    "]\n",
    "RunBenchmark()"
   ]
  },
  {
   "cell_type": "code",
   "execution_count": 50,
   "metadata": {},
   "outputs": [
    {
     "name": "stdout",
     "output_type": "stream",
     "text": [
      "rep:   1, num:   1\n",
      "original_idea            :             0.617867\n"
     ]
    }
   ],
   "source": [
    "def timeSubtractions(repeat = 100, number = 100, pairs_name_func=to_run):\n",
    "  d = {}\n",
    "  for k, v in to_run:\n",
    "    d[k] = timeit.repeat(\n",
    "        stmt=v,\n",
    "        globals=globals(), repeat=repeat, number=number)\n",
    "  return repeat, number, d\n",
    "\n",
    "def RunBenchmark(repeat = 1, number = 1):\n",
    "  # benchmark[big|small] -> nome -> (num, rep) -> [tempos]\n",
    "    benchmark = benchmark_small if mcp.shape[0] < 1000 else benchmark_big\n",
    "    for name, _ in to_run:\n",
    "        if name not in benchmark:\n",
    "            benchmark[name] = {}\n",
    "\n",
    "    rep, num , dic = timeSubtractions(repeat = repeat, number=number)\n",
    "    # print(dic)\n",
    "    for name, _ in to_run:\n",
    "        if (rep, num) not in benchmark[name]:\n",
    "            benchmark[name][(rep, num)] = []\n",
    "        benchmark[name][(rep, num)].extend( dic[name] )\n",
    "\n",
    "    # del benchmark\n",
    "    print(f\"rep: {rep:3d}, num: {num:3d}\")\n",
    "    for k,v in sorted(dic.items(), key=lambda x: min(x[1])):\n",
    "        print(f\"{k:25s}: {min(v):20f}\")\n",
    "RunBenchmark()"
   ]
  },
  {
   "cell_type": "code",
   "execution_count": null,
   "metadata": {},
   "outputs": [],
   "source": [
    "nn = 1\n",
    "for _ in range(1):\n",
    "    if not benchmark.get(nn):\n",
    "      benchmark[nn] = {}\n",
    "      for key, _ in to_run:\n",
    "        benchmark[nn][key] = []\n",
    "    else:\n",
    "      d = benchmark[nn]\n",
    "      for key, fun in to_run:\n",
    "        if key not in d:\n",
    "            benchmark[nn][key] = []\n",
    "\n",
    "    dict_times = {}\n",
    "    for key, func in to_run:\n",
    "      globals()['func'] = func\n",
    "      spent = timeit.repeat(stmt=f'func()', \n",
    "                      number=1, repeat=nn, globals=globals())\n",
    "      dict_times[key] = spent\n",
    "      benchmark[nn][key].append(spent)\n",
    "\n",
    "\n",
    "\n",
    "    # dict_times['numpy_sub'] = loop_time_function(nn, numpy_array_sub)\n",
    "    rl(aux)\n",
    "    print(dict_times)\n",
    "    aux.ShowOrderedDictList(dict_times, option='values')\n",
    "    print('\\n')"
   ]
  },
  {
   "cell_type": "code",
   "execution_count": null,
   "metadata": {},
   "outputs": [],
   "source": [
    "rl(aux)\n",
    "aux.ShowOrderedDictList(benchmark.get(nn, {}), option='values', smallTime=True)\n",
    "print('====================')\n",
    "aux.ShowOrderedDictList(benchmark.get(nn, {}), option='values', smallTime=False)"
   ]
  }
 ],
 "metadata": {
  "kernelspec": {
   "display_name": "Python 3",
   "language": "python",
   "name": "python3"
  },
  "language_info": {
   "codemirror_mode": {
    "name": "ipython",
    "version": 3
   },
   "file_extension": ".py",
   "mimetype": "text/x-python",
   "name": "python",
   "nbconvert_exporter": "python",
   "pygments_lexer": "ipython3",
   "version": "3.7.2"
  }
 },
 "nbformat": 4,
 "nbformat_minor": 2
}
