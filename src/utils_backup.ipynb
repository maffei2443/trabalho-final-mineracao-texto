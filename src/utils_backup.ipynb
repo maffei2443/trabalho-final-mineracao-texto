{
 "cells": [
  {
   "cell_type": "code",
   "execution_count": 2,
   "metadata": {},
   "outputs": [],
   "source": [
    "from scipy.sparse import *\n",
    "from time import time\n",
    "from sklearn.feature_extraction.text import TfidfVectorizer\n",
    "import numpy as np\n",
    "from sklearn import datasets\n",
    "from importlib import reload as rl\n",
    "import aux\n",
    "import json  # salvar benchmarks\n",
    "import timeit\n",
    "import scipy\n"
   ]
  },
  {
   "cell_type": "code",
   "execution_count": 28,
   "metadata": {},
   "outputs": [],
   "source": [
    "categories = [\n",
    "    'alt.atheism',\n",
    "    'talk.religion.misc',\n",
    "    'comp.graphics',\n",
    "    'sci.space',\n",
    "]\n",
    "\n",
    "news_bunch = datasets.fetch_20newsgroups(subset='all',\n",
    "                              remove=('headers', 'footers', 'quotes'))\n",
    " \n",
    "X_news_all = TfidfVectorizer().fit_transform(news_bunch.data)\n",
    "\n",
    "Y_news_all = news_bunch.target\n"
   ]
  },
  {
   "cell_type": "markdown",
   "metadata": {},
   "source": [
    "#### Inicializa corpus e também a versão Tfidf dele"
   ]
  },
  {
   "cell_type": "code",
   "execution_count": 29,
   "metadata": {},
   "outputs": [],
   "source": [
    "def shrink_cp():\n",
    "    global cp\n",
    "    cp = [ \n",
    "        'o sapo nao lava op peh nao lava porque nao quer', \n",
    "        'ele mora la na lagoa não lava o pé porque não quer', \n",
    "        'mas que chulé!', \n",
    "        'Ele mora lá na lagoa não lava o pé porque não quer' \n",
    "    ]\n",
    "    _complementary_cp()\n",
    "def expand_cp(reduce_by = 10):\n",
    "    global cp\n",
    "    cp = news_bunch.data[::reduce_by]\n",
    "    _complementary_cp()\n",
    "\n",
    "def _complementary_cp():\n",
    "    global mcp, mcopy, mc0, mc0ar\n",
    "    mcp = TfidfVectorizer().fit_transform(cp)\n",
    "    mcp\n",
    "    mcopy = mcp.copy()\n",
    "    mc0 = mcp[0]\n",
    "    mc0ar = mc0.toarray()"
   ]
  },
  {
   "cell_type": "code",
   "execution_count": 6,
   "metadata": {},
   "outputs": [],
   "source": [
    "def time_function(func, *args, **kargs):\n",
    "    def wrap():\n",
    "        if kargs:\n",
    "            return func(*args, kargs)\n",
    "        else:\n",
    "            return func(*args)\n",
    "        \n",
    "    return timeit.timeit(wrap)\n",
    "\n",
    "def loop_time_function(n, func, *args, **kargs):\n",
    "    \"\"\"\" Executa n vezes a função func, passando args e kargs como argumento.\n",
    "    Seu retorno é a soma dos tempos de execução de cada chamada à função.\n",
    "    \"\"\"\n",
    "    return sum( \n",
    "        timeit.repeat(stmt=f'func(*args, **kargs)', \n",
    "                      number=1, repeat=n, setup=f'func = {func}', globals=globals())\n",
    "#         (time_function(func, *args, **kargs) for _ in range(n) ) \n",
    "    )\n",
    "# loop_time_function(1, print, 3)"
   ]
  },
  {
   "cell_type": "code",
   "execution_count": 26,
   "metadata": {},
   "outputs": [],
   "source": [
    "expand_cp(reduce_by = 5)"
   ]
  },
  {
   "cell_type": "markdown",
   "metadata": {},
   "source": [
    "## Código para subtração manual, elemento a elemento\n",
    "    + executou de forma consistentemente mais lenta que as versões vetorizadas"
   ]
  },
  {
   "cell_type": "code",
   "execution_count": 8,
   "metadata": {},
   "outputs": [],
   "source": [
    "def manual_sub(cpy=mcopy, dest=mcp, idx = 0):\n",
    "    global mc0\n",
    "    mcp[0] - mc0\n",
    "    mcp[1] - mc0\n",
    "    mcp[2] - mc0\n",
    "    mcp[3] - mc0"
   ]
  },
  {
   "cell_type": "markdown",
   "metadata": {},
   "source": [
    "## Subtração ao se converter tudo para np.array foi a mais veloz\n",
    "    \n",
    "    Contudo, inviável para conjuntos maiores de dados (alta complexidade de espaço) conforme demonstrado ao se tentar utilizar essa estratégia com o dataset de notícias\n",
    "    20newsgroup.\n",
    "```python\n",
    "# PROBLEMA: COMPLEXIDADE DE ESPAÇO\n",
    "def numpy_array_sub(cpy=mcopy, dest=mcp, idx = 0):\n",
    "    cpy.toarray() - cpy[idx].toarray()\n",
    "```"
   ]
  },
  {
   "cell_type": "code",
   "execution_count": 45,
   "metadata": {},
   "outputs": [],
   "source": [
    "# PROBLEMA: COMPLEXIDADE DE ESPAÇO\n",
    "def numpy_array_sub(cpy=mcopy, dest=mcp, idx = 0):\n",
    "    return mcp.toarray() - mcp[idx].toarray()\n"
   ]
  },
  {
   "cell_type": "code",
   "execution_count": 254,
   "metadata": {},
   "outputs": [],
   "source": [
    "expand_cp(1)\n",
    "SetPreambleOfSubtractors()"
   ]
  },
  {
   "cell_type": "code",
   "execution_count": 195,
   "metadata": {
    "scrolled": true
   },
   "outputs": [],
   "source": [
    "# Define algumas funções candidatas a substituir a subtração com conversão direta\n",
    "# para array a partir de matriz esparsa.\n",
    "\n",
    "def SetPreambleOfSubtractors():        \n",
    "    global mc0ToArray, _sub, _vsub, _stupid_vec, _to_sub, _to_sub\n",
    "    mc0ToArray = mc0.toarray()\n",
    "    _sub = lambda a,b: a - b\n",
    "    _vsub = np.frompyfunc(_sub, 2, 1)\n",
    "    _stupid_vec = np.frompyfunc(_sub_stupid, 2, 1)\n",
    "    _to_sub = np.arange( 0, mcp.shape[0], dtype=csr_matrix )\n",
    "    _to_sub[np.array(range(mcp.shape[0]))] = mc0\n",
    "\n",
    "# SetPreambleOfSubtractors()\n",
    "# Ok.\n",
    "def numpy_gambs_sub(cpy=mcopy, dest=mcp, idx = 0):\n",
    "    return np.array([*mcp]) - np.array(mcp.shape[0]*[mcp[idx]])\n",
    "\n",
    "# Ok, however in 'ramdom' order (correct submatrix)\n",
    "def vectorizedpy_sub(cpy=mcopy, dest=mcp, idx = 0):\n",
    "    return _vsub(np.array([*mcp]), mc0)\n",
    "\n",
    "# Ok. Same as 'vectorized_sub' \n",
    "def vectorized_gambs(cpy=mcopy, dest=mcp, idx = 0):\n",
    "    return _vsub([*mcp], mc0)\n",
    "\n",
    "# TESTANTO\n",
    "def _sub_stupid(a, b):\n",
    "    return a - b\n",
    "\n",
    "def stupid_method(cpy=mcopy, dest=mcp, idx = 0):\n",
    "    mc0ar = np.array(mc0)\n",
    "    return _stupid_vec([*mcp], mc0ar)\n",
    "\n",
    "# IDEIA ORIGINALL\n",
    "def original_idea(cpy=mcopy, dest=mcp, idx = 0):\n",
    "    return [*mcp] - _to_sub\n",
    "\n",
    "# Parece LENTO\n",
    "def original_lil(cpy=mcopy, dest=mcp, idx = 0):\n",
    "    return [*mcp.tolil()] -np.array([mc0])\n",
    "# Ok. Simples e FUNCIONA\n",
    "def simple_sub(cpy=mcopy, dest=mcp, idx = 0):\n",
    "    return np.array([*mcp]) - [mcp[0]]\n",
    "def simple_sub_rev(cpy=mcopy, dest=mcp, idx = 0):\n",
    "    return [*mcp] - np.array([mcp[0]])\n",
    "\n",
    "\n",
    "_power_array_of_mat = np.frompyfunc(lambda x: np.power(x.toarray(), 2), 1, 1)\n",
    "_norm_array_of_mat = np.frompyfunc(lambda x: sparse.linalg.norm(x), 1, 1) \n",
    "\n",
    "_norma_direto_sub = np.frompyfunc(lambda x: np.power(scipy.linalg.norm(x.toarray()), 2), 1, 1)\n",
    "\n",
    "def sub_sparse_sparse(cpy=mcopy, dest=mcp, idx = 0):\n",
    "    return _norm_array_of_mat( _power_array_of_mat( [*mcp] - np.array([mcp[1]]) ) )"
   ]
  },
  {
   "cell_type": "code",
   "execution_count": 256,
   "metadata": {},
   "outputs": [
    {
     "name": "stdout",
     "output_type": "stream",
     "text": [
      "  (0, 24810)\t0.13884931659983243\n",
      "  (0, 114159)\t0.054736714669179454\n",
      "  (0, 110739)\t0.037974687974256474\n",
      "  (0, 29449)\t0.13122965511734616\n",
      "  (0, 89588)\t0.17036870960023223\n",
      "  (0, 93532)\t0.49835327837061044\n",
      "  (0, 52374)\t0.0866530013500092\n",
      "  (0, 26465)\t0.08914949300938678\n",
      "  (0, 96770)\t0.06489693974285242\n",
      "  (0, 39025)\t0.09292472333557171\n",
      "  (0, 22362)\t0.07108512930815475\n",
      "  (0, 116790)\t0.18121723459198072\n",
      "  (0, 73447)\t0.08082262581632703\n",
      "  (0, 25769)\t0.036492943561153894\n",
      "  (0, 71770)\t0.06356353510772615\n",
      "  (0, 96012)\t0.08438145186248155\n",
      "  (0, 101388)\t0.07788730502152184\n",
      "  (0, 79249)\t0.09799294739501875\n",
      "  (0, 44272)\t0.1981816470395562\n",
      "  (0, 22945)\t0.05826315190620052\n",
      "  (0, 31039)\t0.17878903113578784\n",
      "  (0, 98219)\t0.13122965511734616\n",
      "  (0, 118091)\t0.05049498528900672\n",
      "  (0, 25260)\t0.02107934232598577\n",
      "  (0, 102231)\t0.12606018701082408\n",
      "  :\t:\n",
      "  (18845, 114087)\t0.08546356625720349\n",
      "  (18845, 111207)\t0.08639810681083769\n",
      "  (18845, 46343)\t0.07603128648194762\n",
      "  (18845, 88133)\t0.07392359824257379\n",
      "  (18845, 66012)\t0.07991901385999306\n",
      "  (18845, 48734)\t0.07683219810516678\n",
      "  (18845, 53571)\t0.18933022234240685\n",
      "  (18845, 95738)\t0.09279277003081972\n",
      "  (18845, 108773)\t0.09691422707603613\n",
      "  (18845, 54620)\t0.08077066343211216\n",
      "  (18845, 34389)\t0.08853945271445836\n",
      "  (18845, 56317)\t0.07862931752849149\n",
      "  (18845, 28240)\t0.09118889666661982\n",
      "  (18845, 104693)\t0.09973095762285945\n",
      "  (18845, 105129)\t0.10145867748221307\n",
      "  (18845, 108497)\t0.08137664851134373\n",
      "  (18845, 66427)\t0.10350213635514295\n",
      "  (18845, 62025)\t0.10600312788839004\n",
      "  (18845, 109261)\t0.10922746676455927\n",
      "  (18845, 36503)\t0.21845493352911854\n",
      "  (18845, 24936)\t0.10922746676455927\n",
      "  (18845, 40891)\t0.2275438343414725\n",
      "  (18845, 52681)\t0.11377191717073624\n",
      "  (18845, 95736)\t0.11377191717073624\n",
      "  (18845, 43230)\t0.11377191717073624\n",
      "<class 'numpy.ndarray'>\n",
      "0.13974766100000124\n"
     ]
    }
   ],
   "source": [
    "rl(aux)\n",
    "print(mcp)\n",
    "# print(t)\n",
    "print(type(t))\n",
    "# print(mcp)\n",
    "norm_vect = np.frompyfunc(lambda x: np.linalg.norm(x), 1, 1)\n",
    "print(timeit.timeit(stmt='norm_vect(np.array(aux.csr_nonzero_tuple_array(mcp)))', globals=globals(), number=1 ))"
   ]
  },
  {
   "cell_type": "code",
   "execution_count": 213,
   "metadata": {},
   "outputs": [],
   "source": [
    "shrink_cp()\n",
    "# expand_cp(1)\n",
    "SetPreambleOfSubtractors()"
   ]
  },
  {
   "cell_type": "code",
   "execution_count": null,
   "metadata": {},
   "outputs": [],
   "source": [
    "diff = simple_sub_rev()\n",
    "x = lambda i: [*mcp] - np.array([mcp[i]])\n",
    "mat = x(1)\n",
    "row0 = mat[0]\n",
    "# print(scipy.linalg.norm( row0[row0.nonzero()]))\n",
    "def linalg_norm(m):\n",
    "#     print('hu! ', scipy.linalg.norm(m[m.nonzero()])) # FALHA SE É APENAS '0' A MATRIZ\n",
    "    return np.linalg.norm(m.data)\n",
    "\n",
    "vect_norm = np.frompyfunc(linalg_norm, 1, 1)\n",
    "vect_norm(mat)"
   ]
  },
  {
   "cell_type": "code",
   "execution_count": 212,
   "metadata": {
    "collapsed": true
   },
   "outputs": [
    {
     "name": "stdout",
     "output_type": "stream",
     "text": [
      "type(diff):  <class 'numpy.ndarray'>\n",
      "diff:  [<1x18 sparse matrix of type '<class 'numpy.float64'>'\n",
      "\twith 0 stored elements in Compressed Sparse Row format>\n",
      " <1x18 sparse matrix of type '<class 'numpy.float64'>'\n",
      "\twith 14 stored elements in Compressed Sparse Row format>\n",
      " <1x18 sparse matrix of type '<class 'numpy.float64'>'\n",
      "\twith 10 stored elements in Compressed Sparse Row format>\n",
      " <1x18 sparse matrix of type '<class 'numpy.float64'>'\n",
      "\twith 14 stored elements in Compressed Sparse Row format>]\n"
     ]
    }
   ],
   "source": [
    "print('type(diff): ', type(diff))\n",
    "print('diff: ', diff)\n"
   ]
  },
  {
   "cell_type": "code",
   "execution_count": 199,
   "metadata": {},
   "outputs": [],
   "source": [
    "def _smart_norma_direto_sub(x: 'matriz esparsa'):\n",
    "    x = x[x.nonzero()]\n",
    "    print(\"x: \", x)\n",
    "    print('t(x): ', type(x))\n",
    "    return scipy.linalg.norm(x) if x.nonzero() else 0\n",
    "\n",
    "smart_norma_direto_sub_vect = np.frompyfunc(_smart_norma_direto_sub, 1, 1)\n",
    "\n",
    "# tt = lambda x: np.power(scipy.linalg.norm(x.toarray()), 2)\n",
    "\n",
    "# r = _norma_direto_sub(t)\n",
    "# print(r)\n",
    "# print(tt(t[0]))\n",
    "# print('t: ', t)\n",
    "# print('t[1]: ', t[1])\n",
    "# print('scipy.linalg.norm(t[1].toarray()): ', \n",
    "#        scipy.linalg.norm(t[1].toarray()))\n",
    "# print('normal maldita', _norma_direto_sub(t[1]))\n",
    "\n",
    "# print('scipy.linalg.norm(t[1]): ', scipy.linalg.norm(t[1]))"
   ]
  },
  {
   "cell_type": "code",
   "execution_count": 200,
   "metadata": {
    "collapsed": true
   },
   "outputs": [
    {
     "name": "stdout",
     "output_type": "stream",
     "text": [
      "[<1x18 sparse matrix of type '<class 'numpy.float64'>'\n",
      "\twith 0 stored elements in Compressed Sparse Row format>\n",
      " <1x18 sparse matrix of type '<class 'numpy.float64'>'\n",
      "\twith 14 stored elements in Compressed Sparse Row format>\n",
      " <1x18 sparse matrix of type '<class 'numpy.float64'>'\n",
      "\twith 10 stored elements in Compressed Sparse Row format>\n",
      " <1x18 sparse matrix of type '<class 'numpy.float64'>'\n",
      "\twith 14 stored elements in Compressed Sparse Row format>]\n",
      "0.0020957670058123767\n"
     ]
    }
   ],
   "source": [
    "print(t)\n",
    "# print(t.shape)\n",
    "# print(t[1])\n",
    "# print(scipy.sparse.linalg.norm(t[1]))\n",
    "\n",
    "np.frompyfunc(scipy.sparse.linalg.norm, 1, 1)(t)\n",
    "# np.linalg.norm (t)\n",
    "\n",
    "\n",
    "print(timeit.timeit(stmt='np.frompyfunc(scipy.sparse.linalg.norm, 1, 1)(t)', globals=globals(), number=1 ))\n",
    "# print(timeit.timeit(stmt='smart_norma_direto_sub_vect(t)', globals=globals(), number=1 ))"
   ]
  },
  {
   "cell_type": "code",
   "execution_count": 201,
   "metadata": {},
   "outputs": [
    {
     "name": "stdout",
     "output_type": "stream",
     "text": [
      "(4, 18)\n",
      "(1, 18)\n"
     ]
    }
   ],
   "source": [
    "print(mcp.shape)\n",
    "print(mcp[0].shape)\n",
    "\n",
    "\n",
    "_sub = lambda a,b: a - b\n",
    "_vsub = np.frompyfunc(_sub, 2, 1)\n",
    "# Ok, however in 'ramdom' order (correct submatrix)\n",
    "def vectorizedpy_sub(cpy=mcopy, dest=mcp, idx = 0):\n",
    "    return _vsub(np.array([*mcp]), mc0)\n",
    "\n",
    "# vectorized_sub()\n",
    "# vectorize_toarray()\n",
    "# np.array([*mcp])"
   ]
  },
  {
   "cell_type": "code",
   "execution_count": 58,
   "metadata": {},
   "outputs": [],
   "source": [
    "benchmark_small = {}\n",
    "benchmark_big = {}"
   ]
  },
  {
   "cell_type": "code",
   "execution_count": 17,
   "metadata": {},
   "outputs": [],
   "source": [
    "# print(mcp[0])\n",
    "\n",
    "# MLE para os dois abaixo...\n",
    "ArraySub = lambda a, b:  a.toarray() - b\n",
    "ArraySubQuick = lambda a, b:  a.toarray() - mc0ar\n",
    "\n",
    "# Testar versão esparsa dos dois acima\n",
    "ArraySubCsr = lambda a, b:  csr_matrix(a.toarray() - b)\n",
    "ArraySubQuickCsr = lambda a, b:  csr_matrix(a.toarray() - mc0ar)\n",
    "\n",
    "frompyfuncArraySub = np.frompyfunc(ArraySub, 2, 1)\n",
    "frompyfuncArraySubQuick = np.frompyfunc(ArraySubQuick, 2, 1)\n",
    "frompyfuncArraySubCsr = np.frompyfunc(ArraySubCsr, 2, 1)\n",
    "frompyfuncArraySubQuickCsr = np.frompyfunc(ArraySubQuickCsr, 2, 1)\n",
    "\n",
    "# MLE\n",
    "def frompysub1_mle(cpy=mcopy, dest=mcp, idx = 0):\n",
    "  return frompyfuncArraySub([*mcp], mc0)\n",
    "\n",
    "# Bons resultados, mas MLE\n",
    "def frompysub2_mle(cpy=mcopy, dest=mcp, idx = 0):\n",
    "  return frompyfuncArraySubQuick([*mcp], mc0)\n",
    "# Bons resultados, mas MLE\n",
    "def frompysub3_big(cpy=mcopy, dest=mcp, idx = 0):\n",
    "  return frompyfuncArraySubCsr([*mcp], mc0)\n",
    "def frompysub4_big(cpy=mcopy, dest=mcp, idx = 0):\n",
    "  return frompyfuncArraySubQuickCsr([*mcp], mc0)\n"
   ]
  },
  {
   "cell_type": "code",
   "execution_count": 51,
   "metadata": {},
   "outputs": [],
   "source": [
    "expand_cp(reduce_by = 1)"
   ]
  },
  {
   "cell_type": "code",
   "execution_count": 71,
   "metadata": {},
   "outputs": [
    {
     "name": "stdout",
     "output_type": "stream",
     "text": [
      "rep:   1, num:   1\n",
      "simple_sub_rev           :             2.590906\n",
      "simple_sub               :             2.739317\n"
     ]
    }
   ],
   "source": [
    "lista = [\n",
    "    ('numpy_gambs_sub', numpy_gambs_sub),\n",
    "    ('vectorizedpy_sub', vectorizedpy_sub),\n",
    "    ('vectorized_gambs', vectorized_gambs),\n",
    "    ('stupid_method', stupid_method),\n",
    "    ('original_idea', original_idea),\n",
    "    ('original_lil', original_lil),\n",
    "    ('simple_sub', simple_sub),\n",
    "    ('simple_sub_rev', simple_sub),\n",
    "    ('numpy_array_sub', numpy_array_sub),\n",
    "    ('frompysub1_mle', frompysub1_mle),\n",
    "    ('frompysub2_mle', frompysub2_mle),\n",
    "    ('frompysub3_big', frompysub3_big),\n",
    "    ('frompysub4_big', frompysub4_big),\n",
    "]\n",
    "\n",
    "to_run = [\n",
    "#     ('original_idea', original_idea), # OK\n",
    "#     ('numpy_gambs_sub', numpy_gambs_sub), # OK\n",
    "#     ('vectorizedpy_sub', vectorizedpy_sub), # OK\n",
    "#     ('vectorized_gambs', vectorized_gambs), # OK\n",
    "#     ('stupid_method', stupid_method), # OK\n",
    "#     ('original_lil', original_lil), # OK\n",
    "    ('simple_sub', simple_sub), # OK\n",
    "    ('simple_sub_rev', simple_sub_rev),\n",
    "\n",
    "#     ('frompysub3_big', frompysub3_big),\n",
    "#     ('frompysub4_big', frompysub4_big),\n",
    "#     ('frompysub1_mle', frompysub1_mle),\n",
    "#     ('frompysub2_mle', frompysub2_mle),\n",
    "#     ('numpy_array_sub', numpy_array_sub), # MLE\n",
    "]\n",
    "RunBenchmark()"
   ]
  },
  {
   "cell_type": "code",
   "execution_count": 50,
   "metadata": {},
   "outputs": [
    {
     "name": "stdout",
     "output_type": "stream",
     "text": [
      "rep:   1, num:   1\n",
      "original_idea            :             0.617867\n"
     ]
    }
   ],
   "source": [
    "def timeSubtractions(repeat = 100, number = 100, pairs_name_func=to_run):\n",
    "  d = {}\n",
    "  for k, v in to_run:\n",
    "    d[k] = timeit.repeat(\n",
    "        stmt=v,\n",
    "        globals=globals(), repeat=repeat, number=number)\n",
    "  return repeat, number, d\n",
    "\n",
    "def RunBenchmark(repeat = 1, number = 1):\n",
    "  # benchmark[big|small] -> nome -> (num, rep) -> [tempos]\n",
    "    benchmark = benchmark_small if mcp.shape[0] < 1000 else benchmark_big\n",
    "    for name, _ in to_run:\n",
    "        if name not in benchmark:\n",
    "            benchmark[name] = {}\n",
    "\n",
    "    rep, num , dic = timeSubtractions(repeat = repeat, number=number)\n",
    "    # print(dic)\n",
    "    for name, _ in to_run:\n",
    "        if (rep, num) not in benchmark[name]:\n",
    "            benchmark[name][(rep, num)] = []\n",
    "        benchmark[name][(rep, num)].extend( dic[name] )\n",
    "\n",
    "    # del benchmark\n",
    "    print(f\"rep: {rep:3d}, num: {num:3d}\")\n",
    "    for k,v in sorted(dic.items(), key=lambda x: min(x[1])):\n",
    "        print(f\"{k:25s}: {min(v):20f}\")\n",
    "RunBenchmark()"
   ]
  },
  {
   "cell_type": "code",
   "execution_count": null,
   "metadata": {},
   "outputs": [],
   "source": [
    "nn = 1\n",
    "for _ in range(1):\n",
    "    if not benchmark.get(nn):\n",
    "      benchmark[nn] = {}\n",
    "      for key, _ in to_run:\n",
    "        benchmark[nn][key] = []\n",
    "    else:\n",
    "      d = benchmark[nn]\n",
    "      for key, fun in to_run:\n",
    "        if key not in d:\n",
    "            benchmark[nn][key] = []\n",
    "\n",
    "    dict_times = {}\n",
    "    for key, func in to_run:\n",
    "      globals()['func'] = func\n",
    "      spent = timeit.repeat(stmt=f'func()', \n",
    "                      number=1, repeat=nn, globals=globals())\n",
    "      dict_times[key] = spent\n",
    "      benchmark[nn][key].append(spent)\n",
    "\n",
    "\n",
    "\n",
    "    # dict_times['numpy_sub'] = loop_time_function(nn, numpy_array_sub)\n",
    "    rl(aux)\n",
    "    print(dict_times)\n",
    "    aux.ShowOrderedDictList(dict_times, option='values')\n",
    "    print('\\n')"
   ]
  },
  {
   "cell_type": "code",
   "execution_count": null,
   "metadata": {},
   "outputs": [],
   "source": [
    "rl(aux)\n",
    "aux.ShowOrderedDictList(benchmark.get(nn, {}), option='values', smallTime=True)\n",
    "print('====================')\n",
    "aux.ShowOrderedDictList(benchmark.get(nn, {}), option='values', smallTime=False)"
   ]
  }
 ],
 "metadata": {
  "kernelspec": {
   "display_name": "Python 3",
   "language": "python",
   "name": "python3"
  },
  "language_info": {
   "codemirror_mode": {
    "name": "ipython",
    "version": 3
   },
   "file_extension": ".py",
   "mimetype": "text/x-python",
   "name": "python",
   "nbconvert_exporter": "python",
   "pygments_lexer": "ipython3",
   "version": "3.7.2"
  }
 },
 "nbformat": 4,
 "nbformat_minor": 2
}
